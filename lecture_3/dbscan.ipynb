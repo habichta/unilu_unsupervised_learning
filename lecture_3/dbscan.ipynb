{
 "cells": [
  {
   "cell_type": "code",
   "execution_count": null,
   "id": "metric-chase",
   "metadata": {},
   "outputs": [],
   "source": [
    "import numpy as np\n",
    "import pandas as pd\n",
    "import math\n",
    "import matplotlib.pyplot as plt\n",
    "import matplotlib\n",
    "from sklearn.cluster import DBSCAN"
   ]
  },
  {
   "cell_type": "code",
   "execution_count": null,
   "id": "sufficient-generator",
   "metadata": {},
   "outputs": [],
   "source": [
    "np.random.seed(42)"
   ]
  },
  {
   "cell_type": "code",
   "execution_count": null,
   "id": "strange-imagination",
   "metadata": {},
   "outputs": [],
   "source": [
    "def create_circular_data(r,n=100):\n",
    "    return [(math.cos(2*math.pi/n*x)*r+np.random.normal(-30,30),math.sin(2*math.pi/n*x)*r+np.random.normal(-30,30)) for x in range(1,n+1)]\n",
    "\n",
    "def create_data_set():\n",
    "    data_set=pd.DataFrame(create_circular_data(500,1000))\n",
    "    data_set=data_set.append(create_circular_data(300,700))\n",
    "    data_set=data_set.append(create_circular_data(100,300))\n",
    "    return data_set"
   ]
  },
  {
   "cell_type": "code",
   "execution_count": null,
   "id": "nearby-award",
   "metadata": {},
   "outputs": [],
   "source": [
    "def add_noise_to_data(data):\n",
    "    noisy_data=data.append([(np.random.randint(-600,600),np.random.randint(-600,600)) for i in range(300)])\n",
    "    return noisy_data"
   ]
  },
  {
   "cell_type": "code",
   "execution_count": null,
   "id": "structural-playlist",
   "metadata": {},
   "outputs": [],
   "source": [
    "def visualize_data(data):\n",
    "    plt.figure(figsize=(10,10))\n",
    "    plt.scatter(data[0],data[1],s=15,color='grey')\n",
    "    plt.title('Noisy circular dataset',fontsize=20)\n",
    "    plt.xlabel('Feature 1',fontsize=14)\n",
    "    plt.ylabel('Feature 2',fontsize=14)\n",
    "    plt.show()"
   ]
  },
  {
   "cell_type": "code",
   "execution_count": null,
   "id": "respiratory-motivation",
   "metadata": {},
   "outputs": [],
   "source": [
    "data_set = create_data_set()\n",
    "noisy_data_set = add_noise_to_data(data_set)"
   ]
  },
  {
   "cell_type": "code",
   "execution_count": null,
   "id": "public-semester",
   "metadata": {},
   "outputs": [],
   "source": [
    "visualize_data(noisy_data_set)"
   ]
  },
  {
   "cell_type": "code",
   "execution_count": null,
   "id": "seventh-interpretation",
   "metadata": {},
   "outputs": [],
   "source": [
    "def perform_dbscan_clustering(data, eps=0.5, min_samples=5):\n",
    "    dbscan = DBSCAN(eps=eps, min_samples=min_samples)\n",
    "    dbscan.fit(data[[0,1]])\n",
    "    return dbscan"
   ]
  },
  {
   "cell_type": "code",
   "execution_count": null,
   "id": "rubber-setting",
   "metadata": {},
   "outputs": [],
   "source": [
    "def visualize_dbscan_results(data, clustering_results):\n",
    "    data['DBSCAN_labels']=clustering_results.labels_ \n",
    "    # Plotting resulting clusters\n",
    "    colors=['purple','red','blue','green']\n",
    "    plt.figure(figsize=(10,10))\n",
    "    plt.scatter(data[0],data[1],c=data['DBSCAN_labels'],cmap=matplotlib.colors.ListedColormap(colors),s=15)\n",
    "    plt.title('DBSCAN Clustering',fontsize=20)\n",
    "    plt.xlabel('Feature 1',fontsize=14)\n",
    "    plt.ylabel('Feature 2',fontsize=14)\n",
    "    plt.show()"
   ]
  },
  {
   "cell_type": "code",
   "execution_count": null,
   "id": "dried-regular",
   "metadata": {},
   "outputs": [],
   "source": [
    "clustering_result = perform_dbscan_clustering(noisy_data_set, eps=0.5, min_samples=5)\n",
    "visualize_dbscan_results(noisy_data_set, clustering_result)"
   ]
  },
  {
   "cell_type": "code",
   "execution_count": null,
   "id": "mighty-offer",
   "metadata": {},
   "outputs": [],
   "source": [
    "clustering_result = perform_dbscan_clustering(noisy_data_set, eps=30, min_samples=6)\n",
    "visualize_dbscan_results(noisy_data_set, clustering_result)"
   ]
  }
 ],
 "metadata": {
  "kernelspec": {
   "display_name": "Python 3",
   "language": "python",
   "name": "python3"
  },
  "language_info": {
   "codemirror_mode": {
    "name": "ipython",
    "version": 3
   },
   "file_extension": ".py",
   "mimetype": "text/x-python",
   "name": "python",
   "nbconvert_exporter": "python",
   "pygments_lexer": "ipython3",
   "version": "3.8.7"
  }
 },
 "nbformat": 4,
 "nbformat_minor": 5
}
