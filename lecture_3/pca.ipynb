{
 "cells": [
  {
   "cell_type": "code",
   "execution_count": null,
   "id": "appreciated-congo",
   "metadata": {},
   "outputs": [],
   "source": [
    "%matplotlib inline\n",
    "import numpy as np\n",
    "import matplotlib.pyplot as plt\n",
    "from sklearn.datasets import load_digits\n",
    "from sklearn.preprocessing import StandardScaler, MinMaxScaler\n",
    "from sklearn.decomposition import PCA"
   ]
  },
  {
   "cell_type": "code",
   "execution_count": null,
   "id": "adjusted-shark",
   "metadata": {},
   "outputs": [],
   "source": [
    "def plot_handwritten_digits(images, y, max_n=10):\n",
    "    n_row, n_col = 2, 5\n",
    "    fig = plt.figure(figsize=(2. * n_col, 2.26 * n_row))\n",
    "    i=0\n",
    "    while i < max_n and i < images.shape[0]:\n",
    "        p = fig.add_subplot(n_row, n_col, i + 1, xticks=[], yticks=[])\n",
    "        p.imshow(images[i], cmap=plt.cm.bone, interpolation='nearest')\n",
    "        p.text(0, -1, str(y[i]))\n",
    "        i = i + 1"
   ]
  },
  {
   "cell_type": "code",
   "execution_count": null,
   "id": "interesting-comparative",
   "metadata": {},
   "outputs": [],
   "source": [
    "def get_pca_embedding(data):\n",
    "    pca = PCA(n_components=2)\n",
    "    embedding = pca.fit_transform(data)\n",
    "    return embedding"
   ]
  },
  {
   "cell_type": "code",
   "execution_count": null,
   "id": "apart-cutting",
   "metadata": {},
   "outputs": [],
   "source": [
    "def scale_data(data, scaler_type='std'):\n",
    "    if scaler_type =='std':\n",
    "        scaler = StandardScaler()\n",
    "    elif scaler_type == 'min_max':\n",
    "        scaler = MinMaxScaler()\n",
    "    scaler.fit(data)\n",
    "    scaled_data = scaler.transform(data)\n",
    "    return scaled_data"
   ]
  },
  {
   "cell_type": "code",
   "execution_count": null,
   "id": "owned-broadcast",
   "metadata": {},
   "outputs": [],
   "source": [
    "def visualize_embedding(embedding):\n",
    "    plt.figure(figsize=(15,10))\n",
    "    plt.scatter(embedding[:, 0], embedding[:, 1],\n",
    "            c=digits.target, edgecolor='none', alpha=0.5,\n",
    "            cmap=plt.cm.get_cmap('rainbow', 10))\n",
    "    plt.xlabel('principal_component_1')\n",
    "    plt.ylabel('principal_component_2')\n",
    "    plt.colorbar();"
   ]
  },
  {
   "cell_type": "markdown",
   "id": "resistant-papua",
   "metadata": {},
   "source": [
    "# handwritten digits digitalized in matrices of 8×8 pixels"
   ]
  },
  {
   "cell_type": "code",
   "execution_count": null,
   "id": "liable-chart",
   "metadata": {},
   "outputs": [],
   "source": [
    "digits = load_digits()\n",
    "print(f'data shape: {digits.data.shape}')"
   ]
  },
  {
   "cell_type": "code",
   "execution_count": null,
   "id": "radical-bracket",
   "metadata": {},
   "outputs": [],
   "source": [
    "plot_handwritten_digits(digits.images, digits.target, max_n=10)"
   ]
  },
  {
   "cell_type": "markdown",
   "id": "quality-amber",
   "metadata": {},
   "source": [
    "# create pca embedding"
   ]
  },
  {
   "cell_type": "code",
   "execution_count": null,
   "id": "lasting-cedar",
   "metadata": {},
   "outputs": [],
   "source": [
    "embedding = get_pca_embedding(digits.data)\n",
    "visualize_embedding(embedding)"
   ]
  },
  {
   "cell_type": "markdown",
   "id": "fabulous-basis",
   "metadata": {},
   "source": [
    "# repete with scaled data"
   ]
  },
  {
   "cell_type": "code",
   "execution_count": null,
   "id": "lesser-geography",
   "metadata": {},
   "outputs": [],
   "source": [
    "embedding = get_pca_embedding(scale_data(digits.data, scaler_type='std'))\n",
    "visualize_embedding(embedding)"
   ]
  },
  {
   "cell_type": "code",
   "execution_count": null,
   "id": "comparative-examination",
   "metadata": {},
   "outputs": [],
   "source": [
    "embedding = get_pca_embedding(scale_data(digits.data, scaler_type='min_max'))\n",
    "visualize_embedding(embedding)"
   ]
  },
  {
   "cell_type": "code",
   "execution_count": null,
   "id": "inappropriate-bearing",
   "metadata": {},
   "outputs": [],
   "source": []
  }
 ],
 "metadata": {
  "kernelspec": {
   "display_name": "Python 3",
   "language": "python",
   "name": "python3"
  },
  "language_info": {
   "codemirror_mode": {
    "name": "ipython",
    "version": 3
   },
   "file_extension": ".py",
   "mimetype": "text/x-python",
   "name": "python",
   "nbconvert_exporter": "python",
   "pygments_lexer": "ipython3",
   "version": "3.8.7"
  }
 },
 "nbformat": 4,
 "nbformat_minor": 5
}
